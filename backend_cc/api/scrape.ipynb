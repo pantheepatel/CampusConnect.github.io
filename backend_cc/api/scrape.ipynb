{
 "cells": [
  {
   "cell_type": "code",
   "execution_count": 2,
   "metadata": {},
   "outputs": [],
   "source": [
    "from bs4 import BeautifulSoup\n",
    "import requests\n"
   ]
  },
  {
   "cell_type": "code",
   "execution_count": 7,
   "metadata": {},
   "outputs": [
    {
     "name": "stdout",
     "output_type": "stream",
     "text": [
      "[<h5>Introduction</h5>, <h5>Our Schools</h5>, <h5>School of Applied Sciences</h5>, <h5>School of Architecture</h5>, <h5>School of Management</h5>, <h5>School of Engineering and Technology</h5>, <h5>School of Computer Applications</h5>, <h5>School of Pharmacy</h5>, <h5>School of Physiotherapy</h5>, <h5>School of Commerce and Professional Education</h5>, <h5>School of Media and Communications</h5>, <h5>Gujarat University</h5>, <h5>School of Law</h5>, <h5>School of Design</h5>, <h5>Doctorate of Research</h5>, <h5>School of Planning</h5>, <h5>Information</h5>, <h5>Student Corner</h5>, <h5>Gallery</h5>, <h5>Contact</h5>]\n"
     ]
    }
   ],
   "source": [
    "\n",
    "url = 'https://www.ljku.edu.in/institutes'\n",
    "data = requests.get(url).text\n",
    "# print(data.text)\n",
    "soup=BeautifulSoup(data,'html.parser')\n",
    "text_ = soup.find_all('h5')\n",
    "print(text_)"
   ]
  },
  {
   "cell_type": "code",
   "execution_count": null,
   "metadata": {},
   "outputs": [],
   "source": []
  }
 ],
 "metadata": {
  "kernelspec": {
   "display_name": "Python 3",
   "language": "python",
   "name": "python3"
  },
  "language_info": {
   "codemirror_mode": {
    "name": "ipython",
    "version": 3
   },
   "file_extension": ".py",
   "mimetype": "text/x-python",
   "name": "python",
   "nbconvert_exporter": "python",
   "pygments_lexer": "ipython3",
   "version": "3.11.0"
  },
  "orig_nbformat": 4
 },
 "nbformat": 4,
 "nbformat_minor": 2
}
